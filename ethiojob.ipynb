{
 "cells": [
  {
   "cell_type": "code",
   "execution_count": 4,
   "metadata": {},
   "outputs": [],
   "source": [
    "import time\n",
    "from selenium import webdriver\n",
    "from selenium.webdriver.common.keys import Keys\n",
    "from selenium.webdriver.common.by import By\n",
    "from selenium.webdriver.support.ui import WebDriverWait\n",
    "\n",
    "from selenium.webdriver.support import expected_conditions as EC\n",
    "# Import Options\n",
    "\n",
    "from selenium.webdriver.chrome.options import Options\n",
    "import time\n",
    "from credential import USERNAME, PASSWORD, EMAIL, NAME\n",
    "options = Options()\n",
    "driver = webdriver.Chrome()\n",
    "URL = 'https://www.ethiopianreporterjobs.com/post-a-job'\n",
    "driver.get(URL)\n"
   ]
  },
  {
   "cell_type": "code",
   "execution_count": 3,
   "metadata": {},
   "outputs": [],
   "source": [
    "\n",
    "register = driver.find_element(By.XPATH, '//*[@id=\"step_content_login\"]/div/div[2]/div[1]/a[1]')\n",
    "register.click()"
   ]
  },
  {
   "cell_type": "code",
   "execution_count": 5,
   "metadata": {},
   "outputs": [],
   "source": [
    "\n",
    "display_name_field = driver.find_element(By.ID, \"658606502c0ad-display-name\")\n",
    "username_field = driver.find_element(By.ID, \"658606502c0ad_user_login\")\n",
    "email_field = driver.find_element(By.ID, \"658606502c0ad_user_email\")\n",
    "password_field = driver.find_element(By.ID, \"658606502c0ad_user_password\")\n",
    "retype_password_field = driver.find_element(By.ID, \"658606502c0ad_cuser_password\")\n",
    "check_box = driver.find_element(By.XPATH, '//*[@id=\"registerform\"]/div[10]/div/div/label/i')  \n",
    "continue_button = driver.find_element(By.XPATH, '//*[@id=\"registerform\"]/div[10]/button')\n",
    "\n",
    "display_name_field.send_keys(NAME)\n",
    "username_field.send_keys(USERNAME)\n",
    "email_field.send_keys(EMAIL)\n",
    "password_field.send_keys(PASSWORD)\n",
    "retype_password_field.send_keys(PASSWORD)\n",
    "\n",
    "check_box.click()\n",
    "continue_button.click()\n",
    "\n",
    " "
   ]
  },
  {
   "cell_type": "code",
   "execution_count": 12,
   "metadata": {},
   "outputs": [],
   "source": [
    "# Login with credential\n",
    "from selenium.webdriver.common.by import By\n",
    "username_field = driver.find_element(By.ID, \"6586082b986b0_log\")\n",
    "password_field = driver.find_element(By.ID, \"6586082b986b0_pwd\")\n",
    "\n",
    "username_field.send_keys(USERNAME)\n",
    "password_field.send_keys(PASSWORD)\n",
    "remember_me = driver.find_element(By.XPATH, '/html/body/div[1]/div[1]/div[2]/div/div/div/div/form/div[6]/div/div/div/label/i')\n",
    "remember_me.click()\n",
    "time.sleep(2)\n",
    "login_button = driver.find_element(By.XPATH, '/html/body/div[1]/div[1]/div[2]/div/div/div/div/form/div[7]/button')\n",
    "login_button.click()\n",
    "time.sleep(2)\n"
   ]
  },
  {
   "cell_type": "code",
   "execution_count": 8,
   "metadata": {},
   "outputs": [],
   "source": [
    "login_button.click()"
   ]
  }
 ],
 "metadata": {
  "kernelspec": {
   "display_name": "Python 3",
   "language": "python",
   "name": "python3"
  },
  "language_info": {
   "codemirror_mode": {
    "name": "ipython",
    "version": 3
   },
   "file_extension": ".py",
   "mimetype": "text/x-python",
   "name": "python",
   "nbconvert_exporter": "python",
   "pygments_lexer": "ipython3",
   "version": "3.10.11"
  }
 },
 "nbformat": 4,
 "nbformat_minor": 2
}
