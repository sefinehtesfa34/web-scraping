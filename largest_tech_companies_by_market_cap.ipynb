{
 "cells": [
  {
   "cell_type": "code",
   "execution_count": 26,
   "metadata": {},
   "outputs": [],
   "source": [
    "import time\n",
    "import os\n",
    "import io\n",
    "from PIL import Image\n",
    "from selenium import webdriver\n",
    "from selenium.webdriver.common.by import By\n",
    "from selenium.webdriver.chrome.options import Options\n",
    "from selenium.webdriver.support.ui import WebDriverWait\n",
    "from selenium.webdriver.support import expected_conditions as EC\n",
    "from openpyxl import Workbook\n"
   ]
  },
  {
   "cell_type": "code",
   "execution_count": 27,
   "metadata": {},
   "outputs": [],
   "source": [
    "URL = 'https://companiesmarketcap.com/tech/largest-tech-companies-by-market-cap/'\n",
    "options = Options()\n",
    "options.add_argument('--headless')\n",
    "driver = webdriver.Chrome(options=options)\n",
    "driver.get(URL)"
   ]
  },
  {
   "cell_type": "code",
   "execution_count": 28,
   "metadata": {},
   "outputs": [],
   "source": [
    "# Create workbook\n",
    "workbook = Workbook()\n",
    "worksheet = workbook.active\n",
    "worksheet_path = os.path.join(os.getcwd(), 'largest_companies.xlsx')"
   ]
  },
  {
   "cell_type": "code",
   "execution_count": null,
   "metadata": {},
   "outputs": [],
   "source": []
  },
  {
   "cell_type": "code",
   "execution_count": 44,
   "metadata": {},
   "outputs": [
    {
     "data": {
      "text/plain": [
       "True"
      ]
     },
     "execution_count": 44,
     "metadata": {},
     "output_type": "execute_result"
    }
   ],
   "source": []
  },
  {
   "cell_type": "code",
   "execution_count": null,
   "metadata": {},
   "outputs": [],
   "source": [
    "svg_elements = driver.find_elements(By.TAG_NAME, \"svg\")\n",
    "driver.save_screenshot(\"screenshot.png\")\n",
    "for index, svg_element in enumerate(svg_elements, 1):\n",
    "    location = svg_element.location\n",
    "    size = svg_element.size\n",
    "    # Calculate the coordinates of the SVG element within the screenshot\n",
    "    left = location['x']\n",
    "    top = location['y']\n",
    "    right = location['x'] + size['width']\n",
    "    bottom = location['y'] + size['height']\n",
    "\n",
    "    # Crop the screenshot to get the SVG element\n",
    "    screenshot = Image.open(\"screenshot.png\")\n",
    "    svg_image = screenshot.crop((left, top, right, bottom))\n",
    "\n",
    "    # Save the SVG image\n",
    "    svg_image.save(f\"svg_element_{index}.png\")\n"
   ]
  },
  {
   "cell_type": "code",
   "execution_count": 17,
   "metadata": {},
   "outputs": [],
   "source": [
    "tabular_data = driver.find_element(By.XPATH, '//*[@id=\"cmkt\"]/div[5]/table/tbody')\n",
    "rows = tabular_data.find_elements(By.TAG_NAME, \"tr\")\n",
    "for row in rows:\n",
    "    columns = row.find_elements(By.TAG_NAME, \"td\")\n",
    "    column_values = [column.text for column in columns]\n",
    "    worksheet.append(column_values)\n",
    "workbook.save(worksheet_path)\n",
    "workbook.close()"
   ]
  },
  {
   "cell_type": "code",
   "execution_count": null,
   "metadata": {},
   "outputs": [],
   "source": []
  },
  {
   "cell_type": "code",
   "execution_count": null,
   "metadata": {},
   "outputs": [],
   "source": []
  }
 ],
 "metadata": {
  "kernelspec": {
   "display_name": "Python 3",
   "language": "python",
   "name": "python3"
  },
  "language_info": {
   "codemirror_mode": {
    "name": "ipython",
    "version": 3
   },
   "file_extension": ".py",
   "mimetype": "text/x-python",
   "name": "python",
   "nbconvert_exporter": "python",
   "pygments_lexer": "ipython3",
   "version": "3.10.11"
  }
 },
 "nbformat": 4,
 "nbformat_minor": 2
}
