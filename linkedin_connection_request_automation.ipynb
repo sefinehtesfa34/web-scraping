{
 "cells": [
  {
   "cell_type": "code",
   "execution_count": 1,
   "metadata": {},
   "outputs": [],
   "source": [
    "import time\n",
    "from selenium import webdriver\n",
    "from selenium.webdriver.common.by import By\n",
    "from selenium.webdriver.chrome.options import Options\n",
    "from selenium.webdriver.support.ui import WebDriverWait\n",
    "from selenium.webdriver.support import expected_conditions as EC\n",
    "from credential import EMAIL, PASSWORD"
   ]
  },
  {
   "cell_type": "code",
   "execution_count": 2,
   "metadata": {},
   "outputs": [],
   "source": [
    "options = Options()\n",
    "driver = webdriver.Chrome(options=options)\n",
    "linkedin = 'https://linkedin.com'\n",
    "driver.get(linkedin)"
   ]
  },
  {
   "cell_type": "code",
   "execution_count": 3,
   "metadata": {},
   "outputs": [],
   "source": [
    "email_field = driver.find_element(By.ID, 'session_key')\n",
    "password_field = driver.find_element(By.ID, 'session_password')\n",
    "email_field.send_keys(EMAIL)\n",
    "password_field.send_keys(PASSWORD)\n",
    "login_button = driver.find_element(By.XPATH, '//*[@id=\"main-content\"]/section[1]/div/div/form/div[2]/button')\n",
    "login_button.click()"
   ]
  },
  {
   "cell_type": "code",
   "execution_count": 4,
   "metadata": {},
   "outputs": [],
   "source": [
    "MY_NETWORK_XPATH = '//*[@id=\"global-nav\"]/div/nav/ul/li[2]/a'"
   ]
  },
  {
   "cell_type": "code",
   "execution_count": 5,
   "metadata": {},
   "outputs": [],
   "source": [
    "my_network = driver.find_element(By.XPATH, MY_NETWORK_XPATH)\n",
    "my_network.click()"
   ]
  },
  {
   "cell_type": "code",
   "execution_count": 7,
   "metadata": {},
   "outputs": [],
   "source": [
    "CONNECT_BUTTON_XPATH = \"//button[span[text()='Connect']]\"\n",
    "TITLE_XPATH = '//*[starts-with(@id, \"ember\")]/div/section/div[2]/a/span[4]'\n",
    "MUTUAL_CONNECTIONS_XPATH = '//*[starts-with(@id, \"ember\")]/div/section/div[3]/div/div/span/span'"
   ]
  },
  {
   "cell_type": "code",
   "execution_count": 8,
   "metadata": {},
   "outputs": [],
   "source": [
    "connect_buttons = driver.find_elements(By.XPATH, CONNECT_BUTTON_XPATH)\n",
    "title = driver.find_elements(By.XPATH, TITLE_XPATH)\n",
    "mutual_friends = driver.find_elements(By.XPATH, MUTUAL_CONNECTIONS_XPATH)\n",
    "mutual_friends_count = [mutual_friend.text  for mutual_friend in mutual_friends]\n",
    "titles = [title.text for title in title]"
   ]
  },
  {
   "cell_type": "code",
   "execution_count": 9,
   "metadata": {},
   "outputs": [
    {
     "name": "stdout",
     "output_type": "stream",
     "text": [
      "Not sending connection request to The back end developer with team leader skills. Software Engineer and website developer and student at Addis Ababa Science and Technology University because mutual friends count is less than 100\n",
      "Mutual friends count: 96\n",
      "Not sending connection request to Software Engineering student at Addis Ababa University because mutual friends count is less than 100\n",
      "Mutual friends count: 90\n",
      "Sent connection request to  Software Developer | A2SVian | Python | AngularJS | .NET | Flutter | Java | React | JavaScript | TypeScript | PostgreSQL | MySQL\n",
      "Sent connection request to  Software Engineer | UI/UX designer | Machine Learning enthusiast\n",
      "Sent connection request to  Software Engineer Intern | Student @A2SV(Africa to Silicon Valley ) | Software Developer| Looking for internships\n",
      "Not sending connection request to Software Developer at Cloud Engineering PLC because mutual friends count is less than 100\n",
      "Mutual friends count: 31\n",
      "Not sending connection request to Senior Software Developer | Seeking Full-time Computer Science Job | UI/Java/JavaScript Developer – Front & Back End Developer/python/WordPress/ 2018 Graduation because mutual friends count is less than 100\n",
      "Mutual friends count: 8\n",
      "Not sending connection request to Alumni Google DSC- Lead || Google Women Techmakers Ambassador || AIESECer || Google Crowdsource Influencer || Student because mutual friends count is less than 100\n",
      "Mutual friends count: 60\n",
      "Sent connection request to  Software Engineer\n"
     ]
    }
   ],
   "source": [
    "for button, title, mutual_count in zip(connect_buttons, titles,mutual_friends_count):\n",
    "    try:\n",
    "        mutual_count = int(mutual_count.split()[0])\n",
    "    except:\n",
    "        mutual_count = 0\n",
    "    time.sleep(1)\n",
    "    is_software_engineer = title.lower().find('software') != -1\n",
    "    is_machine_learning_engineer = title.lower().find('machine learning') != -1\n",
    "    is_ai_engineer = title.lower().find('ai') != -1\n",
    "    is_ml_engineer = title.lower().find('ml') != -1\n",
    "    is_data_scientist = title.lower().find('data scientist') != -1\n",
    "    is_data_analyst = title.lower().find('data analyst') != -1\n",
    "    is_data_engineer = title.lower().find('data engineer') != -1\n",
    "    is_ml_engineer_or_ai_or_data_scientist_or_analyst = is_ai_engineer or is_ml_engineer or is_data_scientist or is_data_analyst\n",
    "    if is_software_engineer or is_data_engineer or is_machine_learning_engineer or is_ml_engineer_or_ai_or_data_scientist_or_analyst:\n",
    "        if mutual_count >= 100:\n",
    "            button.click()\n",
    "            print(f'Sent connection request to  {title}')\n",
    "        else:\n",
    "            print(f'Not sending connection request to {title} because mutual friends count is less than 100')\n",
    "            print(f'Mutual friends count: {mutual_count}')"
   ]
  },
  {
   "cell_type": "code",
   "execution_count": 38,
   "metadata": {},
   "outputs": [],
   "source": []
  },
  {
   "cell_type": "code",
   "execution_count": 46,
   "metadata": {},
   "outputs": [],
   "source": []
  },
  {
   "cell_type": "code",
   "execution_count": null,
   "metadata": {},
   "outputs": [],
   "source": []
  }
 ],
 "metadata": {
  "kernelspec": {
   "display_name": "Python 3",
   "language": "python",
   "name": "python3"
  },
  "language_info": {
   "codemirror_mode": {
    "name": "ipython",
    "version": 3
   },
   "file_extension": ".py",
   "mimetype": "text/x-python",
   "name": "python",
   "nbconvert_exporter": "python",
   "pygments_lexer": "ipython3",
   "version": "3.10.11"
  }
 },
 "nbformat": 4,
 "nbformat_minor": 2
}
