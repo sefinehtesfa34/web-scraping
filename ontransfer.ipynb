{
 "cells": [
  {
   "cell_type": "code",
   "execution_count": 16,
   "metadata": {},
   "outputs": [],
   "source": [
    "import time \n",
    "import scrapy\n",
    "import requests"
   ]
  },
  {
   "cell_type": "code",
   "execution_count": 15,
   "metadata": {},
   "outputs": [],
   "source": [
    "max_institute_id = 423\n",
    "min_institute_id = 357"
   ]
  },
  {
   "cell_type": "code",
   "execution_count": 17,
   "metadata": {},
   "outputs": [],
   "source": [
    "import re\n",
    "import string\n",
    "\n",
    "def clean_data(raw_data):\n",
    "    cleaned_data = []\n",
    "\n",
    "    for item in raw_data:\n",
    "        item[-1] = item[-1].translate(str.maketrans(\"\", \"\", string.punctuation))\n",
    "\n",
    "        cleaned_data.append(item)\n",
    "\n",
    "    return cleaned_data\n",
    "\n"
   ]
  },
  {
   "cell_type": "code",
   "execution_count": 13,
   "metadata": {},
   "outputs": [],
   "source": [
    "valid_institute_ids = []"
   ]
  },
  {
   "cell_type": "code",
   "execution_count": 18,
   "metadata": {},
   "outputs": [
    {
     "name": "stdout",
     "output_type": "stream",
     "text": [
      "Total course_codes: 196012\n"
     ]
    }
   ],
   "source": [
    "total_course_codes = []\n",
    "base_url = \"https://c2c.ontransfer.ca/ajax_en.php?arid=c2c_load_autocomplete_array\" \n",
    "for institute_id in range(min_institute_id, max_institute_id+1):\n",
    "    response = requests.get(base_url + \"&institution_id=\" + str(institute_id))\n",
    "    if response.status_code == 200:\n",
    "        course_codes = response.text.split(\"|*|\")\n",
    "        if not course_codes:\n",
    "            continue\n",
    "        valid_institute_ids.append(institute_id)\n",
    "        course_codes = [course_code.strip().split(\"|**|\") for course_code in course_codes if course_code]\n",
    "        total_course_codes.extend(course_codes)\n",
    "print(f\"Total course_codes: {len(total_course_codes)}\")\n",
    "file = '.valid_id.txt'\n",
    "\n",
    "with open(file, 'w') as f:\n",
    "    for valid_institute_id in valid_institute_ids:\n",
    "        f.write(str(valid_institute_id) + '\\n')"
   ]
  },
  {
   "cell_type": "code",
   "execution_count": 9,
   "metadata": {},
   "outputs": [],
   "source": [
    "from openpyxl import Workbook\n",
    "\n",
    "course_code_workbook = Workbook()\n",
    "course_code_sheet = course_code_workbook.active\n",
    "course_code_sheet.append(['Prefix', 'Number', 'Suffix', 'Title'])\n",
    "for valid_course_code in total_course_codes:\n",
    "    course_code_sheet.append(valid_course_code)\n",
    "    # print(valid_course_code)\n",
    "    # break\n",
    "course_code_workbook.save('course_codes.xlsx')\n",
    "    "
   ]
  },
  {
   "cell_type": "code",
   "execution_count": 11,
   "metadata": {},
   "outputs": [
    {
     "name": "stdout",
     "output_type": "stream",
     "text": [
      "13132804\n"
     ]
    }
   ],
   "source": [
    "print(len(valid_institute_ids)*len(total_course_codes))"
   ]
  },
  {
   "cell_type": "code",
   "execution_count": 2,
   "metadata": {},
   "outputs": [],
   "source": [
    "form_data = {\n",
    "    'page':'c2c',\n",
    "    'user_action':'search_t2',\n",
    "    'C2CTargetInstitution':'398',\n",
    "    'C2CTargetPrefix':'AA',\n",
    "    'C2CTargetNumber':'3035',\n",
    "    'C2CTargetSuffix':'',\n",
    "    'C2CTargetTitle':'Understanding the Family',\n",
    "    'back_link':'page=c2c&user_action=search_t2',\n",
    "    'results':'Find Equivalencies'\n",
    "}"
   ]
  },
  {
   "cell_type": "code",
   "execution_count": 25,
   "metadata": {},
   "outputs": [],
   "source": [
    "# !pip install pandas\n",
    "from openpyxl import Workbook\n",
    "import pandas as pd\n",
    "url_workbook = Workbook()\n",
    "url_sheet = url_workbook.active\n",
    "url_sheet.append(['URLS'])\n",
    "\n",
    "base_url = 'https://c2c.ontransfer.ca/index_en.php'\n",
    "cnt = 0\n",
    "df = pd.read_excel('course_codes.xlsx')\n",
    "for prefix in df.values:\n",
    "    try:\n",
    "        pref, num, suff, title = prefix\n",
    "        for institute_id in valid_institute_ids:\n",
    "            URL = f'https://c2c.ontransfer.ca/index_en.php?page=c2c&user_action=search_t2&C2CTargetInstitution={institute_id}&C2CTargetPrefix={pref}&C2CTargetNumber={num}&C2CTargetSuffix={suff}&C2CTargetTitle={title}&back_link=page&results=Find+Equivalencies'\n",
    "            # url_sheet.append([f'=HYPERLINK(\"{URL}\", \"Link\")'])\n",
    "            cell = url_sheet.cell(row=len(url_sheet['A']) + 1, column=1)\n",
    "            cell.value = URL\n",
    "            cell.hyperlink = URL\n",
    "        cnt += 1\n",
    "        if cnt > 100:\n",
    "            break\n",
    "    except Exception as e:\n",
    "        print(e)\n",
    "        pass\n",
    "url_workbook.save('urls.xlsx')"
   ]
  },
  {
   "cell_type": "code",
   "execution_count": null,
   "metadata": {},
   "outputs": [],
   "source": []
  },
  {
   "cell_type": "code",
   "execution_count": 47,
   "metadata": {},
   "outputs": [],
   "source": [
    "# Scrapy\n",
    "import scrapy\n",
    "class TabularSpider(scrapy.Spider):\n",
    "    name = 'tabular'\n",
    "    start_urls = ['https://c2c.ontransfer.ca/index_en.php?page=c2c&user_action=search_t2&C2CTargetInstitution=366&back_link=page%3Dc2c%26user_action%3Dsearch_t2&results=Find+Equivalencies']\n",
    "    def parse(self, response):\n",
    "        if response.status == 200:\n",
    "            table = response.xpath('//table')\n",
    "            rows = table.xpath('.//tr')\n",
    "            for row in rows:\n",
    "                cells = row.xpath('.//td')\n",
    "                for cell in cells:\n",
    "                    print(cell.xpath('.//text()').extract())    \n"
   ]
  },
  {
   "cell_type": "code",
   "execution_count": 61,
   "metadata": {},
   "outputs": [],
   "source": [
    "table = driver.find_element(By.XPATH, '//*[@id=\"form_c2c_search_results\"]/fieldset/table')"
   ]
  },
  {
   "cell_type": "code",
   "execution_count": 62,
   "metadata": {},
   "outputs": [],
   "source": [
    "thead = table.find_element(By.TAG_NAME, \"thead\")"
   ]
  },
  {
   "cell_type": "code",
   "execution_count": 82,
   "metadata": {},
   "outputs": [],
   "source": [
    "header_rows = thead.find_elements(By.TAG_NAME, \"tr\")"
   ]
  },
  {
   "cell_type": "code",
   "execution_count": 86,
   "metadata": {},
   "outputs": [],
   "source": [
    "tbody = table.find_element(By.TAG_NAME, 'tbody')\n",
    "body_rows = tbody.find_elements(By.TAG_NAME, 'tr')"
   ]
  },
  {
   "cell_type": "code",
   "execution_count": 83,
   "metadata": {},
   "outputs": [
    {
     "data": {
      "text/plain": [
       "2"
      ]
     },
     "execution_count": 83,
     "metadata": {},
     "output_type": "execute_result"
    }
   ],
   "source": [
    "len(header_rows)"
   ]
  },
  {
   "cell_type": "code",
   "execution_count": 94,
   "metadata": {},
   "outputs": [],
   "source": [
    "workbook = Workbook()\n",
    "worksheet = workbook.active"
   ]
  },
  {
   "cell_type": "code",
   "execution_count": 99,
   "metadata": {},
   "outputs": [
    {
     "name": "stdout",
     "output_type": "stream",
     "text": [
      "['', 'McMaster University', 'ABST1P01 - INTRODUCTION TO MOHAWK I', 'C', 'Brock University', '', 'ABST1P01 - INTRODUCTION TO MOHAWK I', ' ']\n",
      "['', 'Trent University', 'NATST 205 - INTRODUCTION TO MOHAWK I', 'C', 'Brock University', '', 'ABST1P01 - INTRODUCTION TO MOHAWK I', ' ']\n",
      "['', 'Trent University', 'NS225 - INTRODUCTION TO MOHAWK I', 'C', 'Brock University', '', 'ABST1P01 - INTRODUCTION TO MOHAWK I', ' ']\n",
      "[' ', ' ']\n",
      "[' ', ' ']\n"
     ]
    }
   ],
   "source": [
    "all_rows = body_rows + header_rows\n",
    "for row in all_rows:\n",
    "    try:\n",
    "        cols = row.find_elements(By.TAG_NAME, 'th')\n",
    "        cols_data = [col.text for col in cols]\n",
    "        print(cols_data)\n",
    "    except:\n",
    "        cols = row.find_elements(By.TAG_NAME, 'td')\n",
    "        cols_data = [col.text for col in cols][1:]\n",
    "        print(cols_data)\n",
    "    worksheet.append(cols_data)\n",
    "workbook.save('table_data.xlsx')"
   ]
  },
  {
   "cell_type": "code",
   "execution_count": 68,
   "metadata": {},
   "outputs": [
    {
     "data": {
      "text/plain": [
       "3"
      ]
     },
     "execution_count": 68,
     "metadata": {},
     "output_type": "execute_result"
    }
   ],
   "source": []
  },
  {
   "cell_type": "code",
   "execution_count": 42,
   "metadata": {},
   "outputs": [],
   "source": [
    "wb.close()"
   ]
  },
  {
   "cell_type": "code",
   "execution_count": null,
   "metadata": {},
   "outputs": [],
   "source": []
  },
  {
   "cell_type": "code",
   "execution_count": null,
   "metadata": {},
   "outputs": [],
   "source": []
  },
  {
   "cell_type": "code",
   "execution_count": null,
   "metadata": {},
   "outputs": [],
   "source": []
  }
 ],
 "metadata": {
  "kernelspec": {
   "display_name": "Python 3",
   "language": "python",
   "name": "python3"
  },
  "language_info": {
   "codemirror_mode": {
    "name": "ipython",
    "version": 3
   },
   "file_extension": ".py",
   "mimetype": "text/x-python",
   "name": "python",
   "nbconvert_exporter": "python",
   "pygments_lexer": "ipython3",
   "version": "3.10.11"
  }
 },
 "nbformat": 4,
 "nbformat_minor": 2
}
