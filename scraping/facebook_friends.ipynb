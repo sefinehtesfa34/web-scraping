{
 "cells": [
  {
   "cell_type": "code",
   "execution_count": 123,
   "metadata": {},
   "outputs": [],
   "source": [
    "import time\n",
    "from selenium import webdriver\n",
    "from selenium.webdriver.common.keys import Keys\n",
    "from selenium.webdriver.common.by import By\n",
    "from selenium.webdriver.support.ui import WebDriverWait\n",
    "\n",
    "from selenium.webdriver.support import expected_conditions as EC\n",
    "# Import Options\n",
    "from selenium.webdriver.chrome.options import Options\n",
    "import time\n",
    "from credential import USERNAME, PASSWORD, PHONE\n",
    "# print(USERNAME)\n",
    "options = Options()\n",
    "driver = webdriver.Chrome()\n",
    "facebook = 'https://facebook.com'\n",
    "URL = 'https://www.facebook.com/sefineh.tesfa.3/friends'\n",
    "driver.get(facebook)\n"
   ]
  },
  {
   "cell_type": "code",
   "execution_count": 124,
   "metadata": {},
   "outputs": [],
   "source": [
    "\n",
    "username_field = driver.find_element(By.ID, 'email')\n",
    "password_field = driver.find_element(By.ID, 'pass')\n",
    "username_field.send_keys(PHONE)\n",
    "password_field.send_keys(PASSWORD)\n",
    "\n",
    "login_button = driver.find_element(By.NAME, 'login')\n",
    "login_button.click()\n",
    "WebDriverWait(driver, 10).until(EC.url_contains(\"facebook.com\"))\n",
    "driver.get(URL)"
   ]
  },
  {
   "cell_type": "code",
   "execution_count": 125,
   "metadata": {},
   "outputs": [],
   "source": [
    "common_id = 'mount_0_0_K0'"
   ]
  },
  {
   "cell_type": "code",
   "execution_count": 5,
   "metadata": {},
   "outputs": [],
   "source": [
    "common_path = 'div/div[1]/div/div[3]/div/div/div[1]/div[1]/div/div/div[4]/div/div/div/div/div/div/div/div/div[3]'"
   ]
  },
  {
   "cell_type": "markdown",
   "metadata": {},
   "source": [
    "**Loop over the friends and click each friend's profile. <br> Finally, grasp their contacts**\n",
    "\n"
   ]
  },
  {
   "cell_type": "code",
   "execution_count": 112,
   "metadata": {},
   "outputs": [],
   "source": [
    "friends_xpath = f'//*[@id=\"{common_id}\"]/{common_path}/*/div[2]/div[1]/a/span'\n",
    "friends = driver.find_elements(By.XPATH, friends_xpath) "
   ]
  },
  {
   "cell_type": "code",
   "execution_count": 113,
   "metadata": {},
   "outputs": [],
   "source": [
    "n_friends = len(friends)"
   ]
  },
  {
   "cell_type": "code",
   "execution_count": 114,
   "metadata": {},
   "outputs": [
    {
     "name": "stdout",
     "output_type": "stream",
     "text": [
      "32\n"
     ]
    }
   ],
   "source": [
    "print(n_friends)"
   ]
  },
  {
   "cell_type": "code",
   "execution_count": 121,
   "metadata": {},
   "outputs": [],
   "source": [
    "def about_page():\n",
    "    about_xpath = f'//*[@id=\"{common_id}\"]/div/div[1]/div/div[3]/div/div/div[1]/div[1]/div/div/div[3]/div/div/div/div[1]/div/div/div[1]/div/div/div/div/div/div/a[2]/div[1]/span'\n",
    "    about = driver.find_element(By.XPATH, about_xpath)\n",
    "    about.click()\n",
    "def contacts_info():\n",
    "    contacts_and_basic_info_xpath = f'//*[@id=\"{common_id}\"]/div/div[1]/div/div[3]/div/div/div[1]/div[1]/div/div/div[4]/div/div/div/div[1]/div/div/div/div/div[1]/*/a/span'\n",
    "    contacts_and_basic_info = driver.find_element(By.XPATH, contacts_and_basic_info_xpath)\n",
    "    contacts_and_basic_info.click()\n",
    "def get_contacts_info(): \n",
    "    contacts = driver.find_element(By.XPATH, f'//*[@id=\"{common_id}\"]/div/div[1]/div/div[3]/div/div/div[1]/div[1]/div/div/div[4]/div/div/div/div[1]/div/div/div/div/div[2]/div/div/div')\n",
    "    print(contacts.text.split('\\n'))\n",
    "def pipline():\n",
    "    time.sleep(3)\n",
    "    about_page()\n",
    "    time.sleep(3)\n",
    "    contacts_info()\n",
    "    time.sleep(3)\n",
    "    get_contacts_info()\n",
    "    time.sleep(3)\n",
    "    driver.execute_script(\"window.history.go(-1)\")\n",
    "    driver.execute_script(\"window.history.go(-1)\")\n",
    "    time.sleep(3)\n",
    "    "
   ]
  },
  {
   "cell_type": "code",
   "execution_count": null,
   "metadata": {},
   "outputs": [],
   "source": [
    "# find all friends \n",
    "import time\n",
    "for index in range(5, n_friends+1):\n",
    "    friend_xpath = f'//*[@id=\"{common_id}\"]/{common_path}/div[{index}]'\n",
    "    friend = driver.find_element(By.XPATH, friend_xpath)\n",
    "    friend.click()\n",
    "    pipline()"
   ]
  },
  {
   "cell_type": "code",
   "execution_count": 128,
   "metadata": {},
   "outputs": [
    {
     "name": "stdout",
     "output_type": "stream",
     "text": [
      "0\n"
     ]
    }
   ],
   "source": [
    "from selenium import webdriver\n",
    "from selenium.webdriver.common.by import By\n",
    "from selenium.webdriver.support.ui import WebDriverWait\n",
    "from selenium.webdriver.support import expected_conditions as EC\n",
    "from selenium.common.exceptions import NoSuchElementException\n",
    "from selenium.webdriver.chrome.options import Options\n",
    "from credential import USERNAME, PASSWORD, PHONE\n",
    "\n",
    "COMMON_ID = 'mount_0_0_K0'\n",
    "COMMON_PATH = 'div/div[1]/div/div[3]/div/div/div[1]/div[1]/div/div/div[4]/div/div/div/div/div/div/div/div/div[3]'\n",
    "FRIENDS_XPATH = f'//*[@id=\"{COMMON_ID}\"]/{COMMON_PATH}/*/div[2]/div[1]/a/span'\n",
    "ABOUT_XPATH = f'//*[@id=\"{COMMON_ID}\"]/div/div[1]/div/div[3]/div/div/div[1]/div[1]/div/div/div[3]/div/div/div/div[1]/div/div/div[1]/div/div/div/div/div/div/a[2]/div[1]/span'\n",
    "CONTACTS_XPATH = f'//*[@id=\"{COMMON_ID}\"]/div/div[1]/div/div[3]/div/div/div[1]/div[1]/div/div/div[4]/div/div/div/div[1]/div/div/div/div/div[1]/*/a/span'\n",
    "\n",
    "def login(driver):\n",
    "    facebook = 'https://facebook.com'\n",
    "    URL = 'https://www.facebook.com/sefineh.tesfa.3/friends'\n",
    "    driver.get(facebook)\n",
    "\n",
    "    username_field = driver.find_element(By.ID, 'email')\n",
    "    password_field = driver.find_element(By.ID, 'pass')\n",
    "    username_field.send_keys(PHONE)\n",
    "    password_field.send_keys(PASSWORD)\n",
    "\n",
    "    login_button = driver.find_element(By.NAME, 'login')\n",
    "    login_button.click()\n",
    "    WebDriverWait(driver, 10).until(EC.url_contains(\"facebook.com\"))\n",
    "    driver.get(URL)\n",
    "\n",
    "def click_element_by_xpath(driver, xpath):\n",
    "    try:\n",
    "        element = WebDriverWait(driver, 10).until(\n",
    "            EC.presence_of_element_located((By.XPATH, xpath))\n",
    "        )\n",
    "        element.click()\n",
    "    except NoSuchElementException:\n",
    "        print(f\"Element not found: {xpath}\")\n",
    "\n",
    "def get_contacts_info(driver):\n",
    "    try:\n",
    "        contacts = WebDriverWait(driver, 10).until(\n",
    "            EC.presence_of_element_located((By.XPATH, f'//*[@id=\"{COMMON_ID}\"]/div/div[1]/div/div[3]/div/div/div[1]/div[1]/div/div/div[4]/div/div/div/div[1]/div/div/div/div/div[2]/div/div/div'))\n",
    "        )\n",
    "        print(contacts.text.split('\\n'))\n",
    "    except NoSuchElementException:\n",
    "        print(\"Contacts information not found\")\n",
    "\n",
    "def pipline(driver):\n",
    "    click_element_by_xpath(driver, ABOUT_XPATH)\n",
    "    click_element_by_xpath(driver, CONTACTS_XPATH)\n",
    "    get_contacts_info(driver)\n",
    "    driver.execute_script(\"window.history.go(-1)\")\n",
    "    driver.execute_script(\"window.history.go(-1)\")\n",
    "\n",
    "def main():\n",
    "    options = Options()\n",
    "    driver = webdriver.Chrome(options=options)\n",
    "    login(driver)\n",
    "    friends_xpath = f'//*[@id=\"{COMMON_ID}\"]/{COMMON_PATH}/*/div[2]/div[1]/a/span'\n",
    "    friends = driver.find_elements(By.XPATH, friends_xpath) \n",
    "    n_friends = len(friends)\n",
    "    print(n_friends)\n",
    "    # Loop through friends\n",
    "    for index in range(1, n_friends + 1):\n",
    "        friend_xpath = f'//*[@id=\"{COMMON_ID}\"]/{COMMON_PATH}/div[{index}]'\n",
    "        click_element_by_xpath(driver, friend_xpath)\n",
    "        pipline(driver)\n",
    "if __name__ == \"__main__\":\n",
    "    main()\n"
   ]
  },
  {
   "cell_type": "code",
   "execution_count": 36,
   "metadata": {},
   "outputs": [],
   "source": []
  },
  {
   "cell_type": "code",
   "execution_count": 37,
   "metadata": {},
   "outputs": [
    {
     "name": "stdout",
     "output_type": "stream",
     "text": [
      "['ምርጫዎች', 'የግል ጦማር', 'መገኛ አድራሻ', '098 928 2370', 'ተንቀሳቃሽ ስልክ', 'ድር ጣቢያዎች እና የማኅበራዊ ሚዲያ አገናኞች', 'https://t.me/joinchat/U32p-mL7_mPh5IuD', 'ድር ጣቢያ', 'መሰረታዊ መረጃ', 'የዋጋ ግምት · $$$$', 'ዋጋ']\n"
     ]
    }
   ],
   "source": []
  },
  {
   "cell_type": "code",
   "execution_count": 19,
   "metadata": {},
   "outputs": [
    {
     "name": "stdout",
     "output_type": "stream",
     "text": [
      "Contacts: \n",
      " Summit 71, Addis Ababa, Ethiopia, 1701 \n",
      " 091 333 3323\n"
     ]
    }
   ],
   "source": [
    "first_contact_xpath = f'//*[@id=\"{common_id}\"]/div/div[1]/div/div[3]/div/div/div[1]/div[1]/div/div/div[4]/div/div/div/div[1]/div/div/div/div/div[2]/div/div/div/div[2]/div/div[2]/div/div/div/div[2]/div[1]/span'\n",
    "first_contact = driver.find_element(By.XPATH, first_contact_xpath)\n",
    "second_contact_xpath = f'//*[@id=\"{common_id}\"]/div/div[1]/div/div[3]/div/div/div[1]/div[1]/div/div/div[4]/div/div/div/div[1]/div/div/div/div/div[2]/div/div/div/div[2]/div/div[3]/div/div/div[2]/ul/li/div/div/div[1]/span'\n",
    "second_contact = driver.find_element(By.XPATH, second_contact_xpath)\n",
    "print(\"Contacts: \\n\", first_contact.text,'\\n', second_contact.text)"
   ]
  },
  {
   "cell_type": "code",
   "execution_count": null,
   "metadata": {},
   "outputs": [],
   "source": []
  },
  {
   "cell_type": "code",
   "execution_count": null,
   "metadata": {},
   "outputs": [],
   "source": []
  },
  {
   "cell_type": "code",
   "execution_count": 78,
   "metadata": {},
   "outputs": [],
   "source": []
  },
  {
   "cell_type": "code",
   "execution_count": null,
   "metadata": {},
   "outputs": [],
   "source": []
  }
 ],
 "metadata": {
  "kernelspec": {
   "display_name": "Python 3",
   "language": "python",
   "name": "python3"
  },
  "language_info": {
   "codemirror_mode": {
    "name": "ipython",
    "version": 3
   },
   "file_extension": ".py",
   "mimetype": "text/x-python",
   "name": "python",
   "nbconvert_exporter": "python",
   "pygments_lexer": "ipython3",
   "version": "3.10.11"
  }
 },
 "nbformat": 4,
 "nbformat_minor": 2
}
