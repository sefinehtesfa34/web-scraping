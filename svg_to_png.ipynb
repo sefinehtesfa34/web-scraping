{
 "cells": [
  {
   "cell_type": "code",
   "execution_count": 2,
   "metadata": {},
   "outputs": [
    {
     "name": "stderr",
     "output_type": "stream",
     "text": [
      "WARNING: Ignoring invalid distribution -rotobuf (c:\\users\\user\\appdata\\local\\packages\\pythonsoftwarefoundation.python.3.10_qbz5n2kfra8p0\\localcache\\local-packages\\python310\\site-packages)\n",
      "WARNING: Ignoring invalid distribution -rotobuf (c:\\users\\user\\appdata\\local\\packages\\pythonsoftwarefoundation.python.3.10_qbz5n2kfra8p0\\localcache\\local-packages\\python310\\site-packages)\n",
      "WARNING: Ignoring invalid distribution -rotobuf (c:\\users\\user\\appdata\\local\\packages\\pythonsoftwarefoundation.python.3.10_qbz5n2kfra8p0\\localcache\\local-packages\\python310\\site-packages)\n",
      "WARNING: Ignoring invalid distribution -rotobuf (c:\\users\\user\\appdata\\local\\packages\\pythonsoftwarefoundation.python.3.10_qbz5n2kfra8p0\\localcache\\local-packages\\python310\\site-packages)\n",
      "WARNING: There was an error checking the latest version of pip.\n"
     ]
    },
    {
     "name": "stdout",
     "output_type": "stream",
     "text": [
      "Collecting svglib\n",
      "  Using cached svglib-1.5.1-py3-none-any.whl\n",
      "Collecting reportlab\n",
      "  Using cached reportlab-4.0.8-py3-none-any.whl.metadata (1.4 kB)\n",
      "Requirement already satisfied: Pillow in c:\\users\\user\\appdata\\local\\packages\\pythonsoftwarefoundation.python.3.10_qbz5n2kfra8p0\\localcache\\local-packages\\python310\\site-packages (9.4.0)\n",
      "Collecting lxml (from svglib)\n",
      "  Using cached lxml-4.9.4-cp310-cp310-win_amd64.whl.metadata (3.8 kB)\n",
      "Requirement already satisfied: tinycss2>=0.6.0 in c:\\users\\user\\appdata\\local\\packages\\pythonsoftwarefoundation.python.3.10_qbz5n2kfra8p0\\localcache\\local-packages\\python310\\site-packages (from svglib) (1.2.1)\n",
      "Requirement already satisfied: cssselect2>=0.2.0 in c:\\users\\user\\appdata\\local\\packages\\pythonsoftwarefoundation.python.3.10_qbz5n2kfra8p0\\localcache\\local-packages\\python310\\site-packages (from svglib) (0.7.0)\n",
      "Requirement already satisfied: chardet in c:\\users\\user\\appdata\\local\\packages\\pythonsoftwarefoundation.python.3.10_qbz5n2kfra8p0\\localcache\\local-packages\\python310\\site-packages (from reportlab) (5.2.0)\n",
      "Requirement already satisfied: webencodings in c:\\users\\user\\appdata\\local\\packages\\pythonsoftwarefoundation.python.3.10_qbz5n2kfra8p0\\localcache\\local-packages\\python310\\site-packages (from cssselect2>=0.2.0->svglib) (0.5.1)\n",
      "Using cached reportlab-4.0.8-py3-none-any.whl (1.9 MB)\n",
      "Using cached lxml-4.9.4-cp310-cp310-win_amd64.whl (3.8 MB)\n",
      "Installing collected packages: reportlab, lxml, svglib\n",
      "Successfully installed lxml-4.9.4 reportlab-4.0.8 svglib-1.5.1\n"
     ]
    }
   ],
   "source": [
    "import pandas as pd\n",
    "from bs4 import BeautifulSoup\n",
    "import requests\n",
    "from io import BytesIO\n",
    "from svglib.svglib import svg2rlg\n",
    "from reportlab.graphics import renderPDF\n",
    "from PIL import Image\n",
    "\n",
    "# Function to download and convert SVG to PNG\n",
    "def convert_svg_to_png(svg_url, output_path):\n",
    "    response = requests.get(svg_url)\n",
    "    svg_data = response.content\n",
    "\n",
    "    drawing = svg2rlg(BytesIO(svg_data))\n",
    "    renderPDF.drawToFile(drawing, output_path)\n",
    "\n",
    "    # Optional: Convert PDF to PNG using Pillow (PIL)\n",
    "    pdf_image = Image.open(output_path)\n",
    "    pdf_image.save(output_path.replace('.pdf', '.png'), 'PNG')\n",
    "\n",
    "# Function to scrape data from HTML and save to Excel\n",
    "def scrape_and_save_to_excel(html_url, excel_output_path):\n",
    "    # Send a GET request to the URL\n",
    "    response = requests.get(html_url)\n",
    "    html_content = response.text\n",
    "\n",
    "    # Parse HTML with BeautifulSoup\n",
    "    soup = BeautifulSoup(html_content, 'html.parser')\n",
    "\n",
    "    # Extract data from the HTML table\n",
    "    data = []\n",
    "    for row in soup.find_all('tr')[1:]:  # assuming the first row contains headers\n",
    "        columns = row.find_all('td')\n",
    "        if len(columns) >= 2:\n",
    "            svg_url = columns[0].find('img')['src']  # adjust this based on the actual HTML structure\n",
    "            name = columns[1].text.strip()\n",
    "            data.append({'name': name, 'svg_url': svg_url})\n",
    "\n",
    "    # Create a Pandas DataFrame\n",
    "    df = pd.DataFrame(data)\n",
    "\n",
    "    # Convert SVG images to PDF and save them\n",
    "    for index, row in df.iterrows():\n",
    "        pdf_output_path = f\"{row['name']}.pdf\"\n",
    "        convert_svg_to_png(row['svg_url'], pdf_output_path)\n",
    "        df.at[index, 'pdf_path'] = pdf_output_path\n",
    "\n",
    "    # Save the DataFrame to Excel\n",
    "    df.to_excel(excel_output_path, index=False)\n",
    "\n",
    "# Example usage\n",
    "html_url = 'https://companiesmarketcap.com/tech/largest-tech-companies-by-market-cap/'\n",
    "excel_output_path = 'output.xlsx'\n",
    "scrape_and_save_to_excel(html_url, excel_output_path)\n"
   ]
  }
 ],
 "metadata": {
  "kernelspec": {
   "display_name": "Python 3",
   "language": "python",
   "name": "python3"
  },
  "language_info": {
   "codemirror_mode": {
    "name": "ipython",
    "version": 3
   },
   "file_extension": ".py",
   "mimetype": "text/x-python",
   "name": "python",
   "nbconvert_exporter": "python",
   "pygments_lexer": "ipython3",
   "version": "3.10.11"
  }
 },
 "nbformat": 4,
 "nbformat_minor": 2
}
